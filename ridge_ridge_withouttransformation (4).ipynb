{
 "cells": [
  {
   "cell_type": "code",
   "execution_count": 1,
   "id": "032efddd",
   "metadata": {},
   "outputs": [
    {
     "name": "stderr",
     "output_type": "stream",
     "text": [
      "C:\\Users\\Yehan Perera\\anaconda3\\Lib\\site-packages\\pandas\\core\\arrays\\masked.py:60: UserWarning: Pandas requires version '1.3.6' or newer of 'bottleneck' (version '1.3.5' currently installed).\n",
      "  from pandas.core import (\n"
     ]
    }
   ],
   "source": [
    "import pandas as pd\n",
    "import numpy as np\n",
    "from ydata_profiling import ProfileReport\n",
    "import seaborn as sns\n",
    "import matplotlib.pyplot as plt\n",
    "%matplotlib inline\n",
    "from ydata_profiling import ProfileReport\n",
    "from sklearn.preprocessing import StandardScaler\n",
    "from sklearn.decomposition import PCA\n",
    "import matplotlib.pyplot as plt\n",
    "import pandas as pd\n",
    "import numpy as np\n",
    "from ydata_profiling import ProfileReport\n",
    "import seaborn as sns\n",
    "import matplotlib.pyplot as plt\n",
    "%matplotlib inline\n",
    "from wordcloud import WordCloud\n",
    "import plotly.express as px\n",
    "import plotly.graph_objs as go\n",
    "from plotly.offline import iplot\n",
    "from matplotlib.gridspec import GridSpec\n",
    "from sklearn.ensemble import RandomForestClassifier, RandomForestRegressor\n",
    "from warnings import filterwarnings\n",
    "from sklearn.preprocessing import LabelEncoder, StandardScaler, OneHotEncoder\n",
    "from sklearn.decomposition import PCA\n",
    "from sklearn.compose import ColumnTransformer\n",
    "from sklearn.pipeline import Pipeline\n",
    "from sklearn.impute import SimpleImputer\n",
    "from sklearn.model_selection import train_test_split, GridSearchCV\n",
    "from sklearn.metrics import mean_squared_error, r2_score, silhouette_samples\n",
    "from sklearn.cluster import KMeans, AgglomerativeClustering\n",
    "from scipy.cluster.hierarchy import linkage, dendrogram\n",
    "from factor_analyzer import FactorAnalyzer\n",
    "from sklearn.ensemble import GradientBoostingRegressor\n",
    "import xgboost as xgb\n",
    "import lightgbm as lgb\n",
    "from sklearn.linear_model import ElasticNet\n",
    "from itertools import combinations\n",
    "from kmodes.kprototypes import KPrototypes\n",
    "from collections import Counter\n",
    "import seaborn as sns\n",
    "import plotly.express as px\n",
    "import plotly.graph_objs as go\n",
    "from plotly.offline import iplot\n",
    "from sklearn.model_selection import train_test_split\n",
    "from sklearn.tree import DecisionTreeClassifier\n",
    "from sklearn.impute import SimpleImputer\n",
    "from sklearn.tree import DecisionTreeRegressor\n",
    "from sklearn.feature_selection import RFE\n",
    "### so that u dont have warnings\n",
    "from warnings import filterwarnings\n",
    "filterwarnings('ignore')\n",
    "from sklearn.cluster import DBSCAN\n",
    "from sklearn.linear_model import ElasticNet\n",
    "from sklearn.model_selection import GridSearchCV\n",
    "from category_encoders import TargetEncoder\n"
   ]
  },
  {
   "cell_type": "code",
   "execution_count": 2,
   "id": "3781dc96",
   "metadata": {},
   "outputs": [],
   "source": [
    "df_1 = pd.read_csv(\"zomato.csv\")"
   ]
  },
  {
   "cell_type": "code",
   "execution_count": 3,
   "id": "0fb77b35",
   "metadata": {},
   "outputs": [],
   "source": [
    "def preprocessing_initial(data):\n",
    "    ### Remove unwanted columns \n",
    "    col_to_remove = ['url','address','phone','reviews_list','menu_item']\n",
    "    df = data.drop(columns=col_to_remove)\n",
    "    \n",
    "    # remove duplicates\n",
    "    df.drop_duplicates(inplace=True)\n",
    "    \n",
    "\n",
    "    def fun(x):\n",
    "        x_new = x.split(',')\n",
    "        return x_new[0]+x_new[1]\n",
    "    df['approx_cost(for two people)']=df['approx_cost(for two people)'].apply(lambda x: fun(x) if ',' in str(x) else x)\n",
    "    df['approx_cost(for two people)'] = pd.to_numeric(df['approx_cost(for two people)'])\n",
    "    \n",
    "    \n",
    "    # rate \n",
    "    df['rate'] = df['rate'].apply(lambda x : str(x).split('/')[0])\n",
    "    ls = [float(i) for i in df['rate'] if (i!='NEW') & (i!='nan') & (i!='-')]\n",
    "    mean_rate = round(np.mean(ls),1)\n",
    "    df['rate'] = df['rate'].apply(lambda x: mean_rate if (x=='NEW') | (x=='-') | (x=='nan') else x)\n",
    "    df['rate'] = pd.to_numeric(df['rate'])\n",
    "    ## Remove the missing values of response \n",
    "    df.dropna(subset=['approx_cost(for two people)'], inplace=True)\n",
    "    \n",
    "     #########   categorical variables \n",
    "    vars_to_impute = ['location','rest_type','dish_liked','cuisines']\n",
    "    for col in vars_to_impute:\n",
    "        df.dropna(subset=[col],inplace=True)\n",
    "        \n",
    "        \n",
    "    ## Split the data \n",
    "    X= df.drop(columns=['approx_cost(for two people)'])\n",
    "    Y = df['approx_cost(for two people)']\n",
    "   \n",
    "    return   X ,Y \n",
    "    "
   ]
  },
  {
   "cell_type": "code",
   "execution_count": 4,
   "id": "e64bf977",
   "metadata": {},
   "outputs": [],
   "source": [
    "X , Y = preprocessing_initial(df_1)"
   ]
  },
  {
   "cell_type": "code",
   "execution_count": 5,
   "id": "bc659f2e",
   "metadata": {},
   "outputs": [
    {
     "name": "stdout",
     "output_type": "stream",
     "text": [
      "Warning: No categorical columns found. Calling 'transform' will only return input data.\n",
      "Warning: No categorical columns found. Calling 'transform' will only return input data.\n",
      "Warning: No categorical columns found. Calling 'transform' will only return input data.\n",
      "Warning: No categorical columns found. Calling 'transform' will only return input data.\n",
      "Warning: No categorical columns found. Calling 'transform' will only return input data.\n",
      "Warning: No categorical columns found. Calling 'transform' will only return input data.\n",
      "Warning: No categorical columns found. Calling 'transform' will only return input data.\n",
      "Warning: No categorical columns found. Calling 'transform' will only return input data.\n",
      "Warning: No categorical columns found. Calling 'transform' will only return input data.\n",
      "Warning: No categorical columns found. Calling 'transform' will only return input data.\n",
      "Warning: No categorical columns found. Calling 'transform' will only return input data.\n",
      "Warning: No categorical columns found. Calling 'transform' will only return input data.\n",
      "Warning: No categorical columns found. Calling 'transform' will only return input data.\n",
      "Warning: No categorical columns found. Calling 'transform' will only return input data.\n",
      "Warning: No categorical columns found. Calling 'transform' will only return input data.\n",
      "Warning: No categorical columns found. Calling 'transform' will only return input data.\n"
     ]
    }
   ],
   "source": [
    "from sklearn.preprocessing import OneHotEncoder\n",
    "# Define your target encoder columns\n",
    "target_encoder_cols = ['name', 'dish_liked', 'cuisines', 'location', 'rest_type', 'listed_in(city)', 'listed_in(type)', 'online_order', 'book_table']\n",
    "\n",
    "# Split the data into train and test sets\n",
    "X_train, X_test, y_train, y_test = train_test_split(X, Y, test_size=0.2, random_state=42)\n",
    "\n",
    "# Perform frequency encoding for each column\n",
    "# Perform frequency encoding for each column\n",
    "for col in target_encoder_cols:\n",
    "    target_encoder = TargetEncoder()\n",
    "\n",
    "    # Fit and transform the target encoder on the training data\n",
    "    X_train[target_encoder_cols] = target_encoder.fit_transform(X_train[target_encoder_cols], y_train)\n",
    "\n",
    "    # Transform the test data using the target encoder fitted on the training data\n",
    "    X_test[target_encoder_cols] = target_encoder.fit_transform(X_test[target_encoder_cols],y_test)\n",
    "    "
   ]
  },
  {
   "cell_type": "code",
   "execution_count": 6,
   "id": "f4cba3c5",
   "metadata": {},
   "outputs": [],
   "source": [
    "from sklearn.ensemble import IsolationForest\n",
    "random_seed = 42\n",
    "clf = IsolationForest(contamination=0.2, random_state=random_seed)\n",
    "clf.fit(X_train)\n",
    "predictions = clf.predict(X_train)\n",
    "\n",
    "X_train['cluster_label'] = predictions\n",
    "\n",
    "X_train_1 = X_train[X_train['cluster_label']== -1]\n",
    "X_train_2 = X_train[X_train['cluster_label']== 1]\n",
    "\n",
    "indexes_1 = X_train_1.index\n",
    "indexes_2 = X_train_2.index\n",
    "\n",
    "\n",
    "y_train_1 = y_train.loc[indexes_1]\n",
    "y_train_2 = y_train.loc[indexes_2]\n",
    "\n",
    "\n",
    "\n",
    "\n",
    "\n"
   ]
  },
  {
   "cell_type": "code",
   "execution_count": 7,
   "id": "4853ca9b",
   "metadata": {},
   "outputs": [],
   "source": [
    "from sklearn.pipeline import Pipeline\n",
    "from sklearn.feature_selection import SelectFromModel\n",
    "from sklearn.linear_model import Ridge\n",
    "from sklearn.model_selection import GridSearchCV"
   ]
  },
  {
   "cell_type": "code",
   "execution_count": 8,
   "id": "bb0c25e8",
   "metadata": {},
   "outputs": [],
   "source": [
    "x_train_cluster_1 , x_test_cluster_1 , y_train_cluster_1 , y_test_cluster_1 = train_test_split(X_train_1,y_train_1,test_size=0.2,random_state=42)"
   ]
  },
  {
   "cell_type": "code",
   "execution_count": 9,
   "id": "9951616e",
   "metadata": {},
   "outputs": [
    {
     "name": "stdout",
     "output_type": "stream",
     "text": [
      "Selected Features: Index(['rate'], dtype='object')\n",
      "Mean Absolute Percentage Error on Training set: 59.62889332492621\n",
      "Mean Absolute Percentage Error on Testing set: 58.068393503336466\n",
      "Root Mean Squared Error on Training set: 652.1281183234329\n",
      "Root Mean Squared Error on Testing set: 663.4177838463141\n",
      "{'feature_selection__estimator__alpha': 0.1, 'feature_selection__estimator__fit_intercept': True, 'ridge__alpha': 10.0, 'ridge__fit_intercept': False}\n"
     ]
    }
   ],
   "source": [
    "from sklearn.metrics import mean_squared_error\n",
    "\n",
    "# Create Pipeline with feature selection and Ridge\n",
    "pipeline = Pipeline([\n",
    "    ('feature_selection', SelectFromModel(Ridge())),\n",
    "    ('ridge', Ridge())\n",
    "])\n",
    "\n",
    "# Define parameter grid for hyperparameter tuning\n",
    "param_grid = {\n",
    "    'feature_selection__estimator__alpha': [0.1, 1.0, 10.0],\n",
    "    'feature_selection__estimator__fit_intercept': [True, False],\n",
    "    'ridge__alpha': [0.1, 1.0, 10.0],\n",
    "    'ridge__fit_intercept': [True, False]\n",
    "}\n",
    "\n",
    "# Perform GridSearchCV\n",
    "grid_search = GridSearchCV(pipeline, param_grid, cv=5, scoring='neg_mean_squared_error', n_jobs=-1)\n",
    "\n",
    "# Fit GridSearchCV\n",
    "grid_search.fit(x_train_cluster_1, y_train_cluster_1)\n",
    "\n",
    "# Get the best model\n",
    "best_model_1 = grid_search.best_estimator_\n",
    "\n",
    "# Get the selected features\n",
    "selected_features = x_train_cluster_1.columns[best_model_1.named_steps['feature_selection'].get_support()]\n",
    "\n",
    "# Predictions for Cluster 1\n",
    "y_train_pred_cluster_1 = best_model_1.predict(x_train_cluster_1)\n",
    "y_test_pred_cluster_1 = best_model_1.predict(x_test_cluster_1)\n",
    "\n",
    "# Calculate RMSE for Cluster 1\n",
    "rmse_train_cluster_1 = np.sqrt(mean_squared_error(y_train_cluster_1, y_train_pred_cluster_1))\n",
    "rmse_test_cluster_1 = np.sqrt(mean_squared_error(y_test_cluster_1, y_test_pred_cluster_1))\n",
    "\n",
    "# Evaluate the best model\n",
    "mape_train_cluster_1 = np.mean(np.abs((y_train_cluster_1 - y_train_pred_cluster_1) / y_train_cluster_1)) * 100\n",
    "mape_test_cluster_1 = np.mean(np.abs((y_test_cluster_1 - y_test_pred_cluster_1) / y_test_cluster_1)) * 100\n",
    "\n",
    "print(\"Selected Features:\", selected_features)\n",
    "print(\"Mean Absolute Percentage Error on Training set:\", mape_train_cluster_1)\n",
    "print(\"Mean Absolute Percentage Error on Testing set:\", mape_test_cluster_1)\n",
    "print(\"Root Mean Squared Error on Training set:\", rmse_train_cluster_1)\n",
    "print(\"Root Mean Squared Error on Testing set:\", rmse_test_cluster_1)\n",
    "print(grid_search.best_params_)\n"
   ]
  },
  {
   "cell_type": "code",
   "execution_count": 10,
   "id": "4d6786f4",
   "metadata": {},
   "outputs": [
    {
     "name": "stdout",
     "output_type": "stream",
     "text": [
      "{'feature_selection__estimator__alpha': 0.1, 'feature_selection__estimator__fit_intercept': True, 'ridge__alpha': 10.0, 'ridge__fit_intercept': False}\n"
     ]
    }
   ],
   "source": [
    "print(grid_search.best_params_)"
   ]
  },
  {
   "cell_type": "code",
   "execution_count": null,
   "id": "bbde550e",
   "metadata": {},
   "outputs": [],
   "source": []
  },
  {
   "cell_type": "code",
   "execution_count": null,
   "id": "cbdfc959",
   "metadata": {},
   "outputs": [],
   "source": []
  },
  {
   "cell_type": "code",
   "execution_count": null,
   "id": "1e4e91f1",
   "metadata": {},
   "outputs": [],
   "source": []
  },
  {
   "cell_type": "code",
   "execution_count": null,
   "id": "64c1cb22",
   "metadata": {},
   "outputs": [],
   "source": []
  },
  {
   "cell_type": "code",
   "execution_count": null,
   "id": "4f414a63",
   "metadata": {},
   "outputs": [],
   "source": []
  },
  {
   "cell_type": "code",
   "execution_count": 11,
   "id": "e870f978",
   "metadata": {},
   "outputs": [],
   "source": [
    "x_train_cluster_2 , x_test_cluster_2 , y_train_cluster_2 , y_test_cluster_2 = train_test_split(X_train_2,\n",
    "                                                                                    y_train_2,test_size=0.2,random_state=42)"
   ]
  },
  {
   "cell_type": "code",
   "execution_count": 12,
   "id": "080c4eda",
   "metadata": {},
   "outputs": [
    {
     "name": "stdout",
     "output_type": "stream",
     "text": [
      "Selected Features: Index(['rate'], dtype='object')\n",
      "Mean Absolute Percentage Error on Training set: 53.607334423043284\n",
      "Mean Absolute Percentage Error on Testing set: 53.20562620462719\n",
      "Root Mean Squared Error on Training set: 291.93631391043846\n",
      "Root Mean Squared Error on Testing set: 295.61157353347835\n",
      "{'feature_selection__estimator__alpha': 0.1, 'feature_selection__estimator__fit_intercept': True, 'ridge__alpha': 1.0, 'ridge__fit_intercept': True}\n"
     ]
    }
   ],
   "source": [
    "from sklearn.metrics import mean_squared_error\n",
    "\n",
    "# Create Pipeline with feature selection and Ridge\n",
    "pipeline = Pipeline([\n",
    "    ('feature_selection', SelectFromModel(Ridge())),\n",
    "    ('ridge', Ridge())\n",
    "])\n",
    "\n",
    "# Define parameter grid for hyperparameter tuning\n",
    "param_grid = {\n",
    "    'feature_selection__estimator__alpha': [0.1, 1.0, 10.0],\n",
    "    'feature_selection__estimator__fit_intercept': [True, False],\n",
    "    'ridge__alpha': [0.1, 1.0, 10.0],\n",
    "    'ridge__fit_intercept': [True, False]\n",
    "}\n",
    "\n",
    "# Perform GridSearchCV\n",
    "grid_search = GridSearchCV(pipeline, param_grid, cv=5, scoring='neg_mean_squared_error', n_jobs=-1)\n",
    "\n",
    "# Fit GridSearchCV\n",
    "grid_search.fit(x_train_cluster_2, y_train_cluster_2)\n",
    "\n",
    "# Get the best model\n",
    "best_model_2 = grid_search.best_estimator_\n",
    "\n",
    "# Get the selected features\n",
    "selected_features = x_train_cluster_2.columns[best_model_2.named_steps['feature_selection'].get_support()]\n",
    "\n",
    "# Predictions for Cluster 2\n",
    "y_train_pred_cluster_2 = best_model_2.predict(x_train_cluster_2)\n",
    "y_test_pred_cluster_2 = best_model_2.predict(x_test_cluster_2)\n",
    "\n",
    "# Calculate RMSE for Cluster 2\n",
    "rmse_train_cluster_2 = np.sqrt(mean_squared_error(y_train_cluster_2, y_train_pred_cluster_2))\n",
    "rmse_test_cluster_2 = np.sqrt(mean_squared_error(y_test_cluster_2, y_test_pred_cluster_2))\n",
    "\n",
    "# Evaluate the best model\n",
    "mape_train_cluster_2 = np.mean(np.abs((y_train_cluster_2 - y_train_pred_cluster_2) / y_train_cluster_2)) * 100\n",
    "mape_test_cluster_2 = np.mean(np.abs((y_test_cluster_2 - y_test_pred_cluster_2) / y_test_cluster_2)) * 100\n",
    "\n",
    "print(\"Selected Features:\", selected_features)\n",
    "print(\"Mean Absolute Percentage Error on Training set:\", mape_train_cluster_2)\n",
    "print(\"Mean Absolute Percentage Error on Testing set:\", mape_test_cluster_2)\n",
    "print(\"Root Mean Squared Error on Training set:\", rmse_train_cluster_2)\n",
    "print(\"Root Mean Squared Error on Testing set:\", rmse_test_cluster_2)\n",
    "print(grid_search.best_params_)\n"
   ]
  },
  {
   "cell_type": "code",
   "execution_count": 13,
   "id": "e2ec0511",
   "metadata": {},
   "outputs": [
    {
     "name": "stdout",
     "output_type": "stream",
     "text": [
      "{'feature_selection__estimator__alpha': 0.1, 'feature_selection__estimator__fit_intercept': True, 'ridge__alpha': 1.0, 'ridge__fit_intercept': True}\n"
     ]
    }
   ],
   "source": [
    "print(grid_search.best_params_)"
   ]
  },
  {
   "cell_type": "code",
   "execution_count": null,
   "id": "367ed866",
   "metadata": {},
   "outputs": [],
   "source": []
  },
  {
   "cell_type": "code",
   "execution_count": null,
   "id": "6be5eab2",
   "metadata": {},
   "outputs": [],
   "source": []
  },
  {
   "cell_type": "code",
   "execution_count": 14,
   "id": "dc179c3a",
   "metadata": {},
   "outputs": [
    {
     "name": "stdout",
     "output_type": "stream",
     "text": [
      "Mean Absolute Percentage Error for Cluster 1: 53.0831124061471\n",
      "Mean Absolute Percentage Error for Cluster 2: 54.482951665667045\n"
     ]
    }
   ],
   "source": [
    "new_preds = clf.predict(X_test)\n",
    "\n",
    "# Define best models for each cluster\n",
    "best_model_cluster_1 = best_model_1\n",
    "best_model_cluster_2 = best_model_2\n",
    "\n",
    "# Assign cluster labels to X_test\n",
    "X_test['cluster_label'] = new_preds\n",
    "\n",
    "# Filter X_test for each cluster\n",
    "X_test_1 = X_test[X_test['cluster_label'] == -1]\n",
    "X_test_2 = X_test[X_test['cluster_label'] == 1]\n",
    "\n",
    "# Get the indexes for each cluster\n",
    "indexes_1 = X_test_1.index\n",
    "indexes_2 = X_test_2.index\n",
    "\n",
    "# Filter y_test for each cluster\n",
    "y_test_1 = y_test.loc[indexes_1]\n",
    "y_test_2 = y_test.loc[indexes_2]\n",
    "\n",
    "# Predictions for each cluster using the corresponding best model\n",
    "y_test_pred_cluster_1 = best_model_cluster_1.predict(X_test_1)\n",
    "y_test_pred_cluster_2 = best_model_cluster_2.predict(X_test_2)\n",
    "\n",
    "# Calculate Mean Absolute Percentage Error (MAPE) for cluster 1\n",
    "mape_cluster_1 = np.mean(np.abs((y_test_1 - y_test_pred_cluster_1) / y_test_1)) * 100\n",
    "\n",
    "# Calculate Mean Absolute Percentage Error (MAPE) for cluster 2\n",
    "mape_cluster_2 = np.mean(np.abs((y_test_2 - y_test_pred_cluster_2) / y_test_2)) * 100\n",
    "\n",
    "# Print MAPE for each cluster\n",
    "print(\"Mean Absolute Percentage Error for Cluster 1:\", mape_cluster_1)\n",
    "print(\"Mean Absolute Percentage Error for Cluster 2:\", mape_cluster_2)"
   ]
  },
  {
   "cell_type": "code",
   "execution_count": null,
   "id": "da8d433a",
   "metadata": {},
   "outputs": [],
   "source": []
  },
  {
   "cell_type": "code",
   "execution_count": 15,
   "id": "cb045254",
   "metadata": {},
   "outputs": [],
   "source": [
    "import math"
   ]
  },
  {
   "cell_type": "code",
   "execution_count": 16,
   "id": "6b81acc8",
   "metadata": {},
   "outputs": [
    {
     "name": "stdout",
     "output_type": "stream",
     "text": [
      "Mean Squared Error for Cluster 1: 486975.64758232504\n",
      "Root Mean Squared Error for Cluster 1: 697.836404598044\n",
      "Mean Squared Error for Cluster 2: 105221.682385049\n",
      "Root Mean Squared Error for Cluster 2: 324.378917910904\n"
     ]
    }
   ],
   "source": [
    "# Calculate Mean Squared Error (MSE) for cluster 1\n",
    "mse_cluster_1 = mean_squared_error(y_test_1, y_test_pred_cluster_1)\n",
    "\n",
    "# Calculate Mean Squared Error (MSE) for cluster 2\n",
    "mse_cluster_2 = mean_squared_error(y_test_2, y_test_pred_cluster_2)\n",
    "\n",
    "# Calculate Root Mean Squared Error (RMSE) for cluster 1\n",
    "rmse_cluster_1 = math.sqrt(mse_cluster_1)\n",
    "\n",
    "# Calculate Root Mean Squared Error (RMSE) for cluster 2\n",
    "rmse_cluster_2 = math.sqrt(mse_cluster_2)\n",
    "\n",
    "# Print MSE and RMSE for each cluster\n",
    "print(\"Mean Squared Error for Cluster 1:\", mse_cluster_1)\n",
    "print(\"Root Mean Squared Error for Cluster 1:\", rmse_cluster_1)\n",
    "print(\"Mean Squared Error for Cluster 2:\", mse_cluster_2)\n",
    "print(\"Root Mean Squared Error for Cluster 2:\", rmse_cluster_2)"
   ]
  },
  {
   "cell_type": "code",
   "execution_count": null,
   "id": "8a4247b0",
   "metadata": {},
   "outputs": [],
   "source": []
  },
  {
   "cell_type": "code",
   "execution_count": 17,
   "id": "0d4c883d",
   "metadata": {},
   "outputs": [],
   "source": [
    "import math"
   ]
  },
  {
   "cell_type": "code",
   "execution_count": 18,
   "id": "4ee81029",
   "metadata": {},
   "outputs": [
    {
     "name": "stdout",
     "output_type": "stream",
     "text": [
      "Mean Absolute Percentage Error for Combined Predictions: 54.27323007538632\n"
     ]
    }
   ],
   "source": [
    "# Combine predictions and actual values for both clusters\n",
    "y_test_combined = pd.concat([y_test_1, y_test_2], axis=0)\n",
    "\n",
    "# Combine predictions for both clusters\n",
    "y_pred_combined = np.concatenate([y_test_pred_cluster_1, y_test_pred_cluster_2])\n",
    "\n",
    "# Calculate MAPE for combined predictions\n",
    "mape_combined = np.mean(np.abs((y_test_combined - y_pred_combined) / y_test_combined)) * 100\n",
    "\n",
    "# Print MAPE for combined predictions\n",
    "print(\"Mean Absolute Percentage Error for Combined Predictions:\", mape_combined)"
   ]
  },
  {
   "cell_type": "code",
   "execution_count": 19,
   "id": "82b1406b",
   "metadata": {},
   "outputs": [
    {
     "name": "stdout",
     "output_type": "stream",
     "text": [
      "Mean Squared Error for Combined Predictions: 162415.42669009077\n",
      "Root Mean Squared Error for Combined Predictions: 403.00797348202775\n"
     ]
    }
   ],
   "source": [
    "# Calculate Mean Squared Error (MSE) for combined predictions\n",
    "mse_combined = mean_squared_error(y_test_combined, y_pred_combined)\n",
    "\n",
    "# Calculate Root Mean Squared Error (RMSE) for combined predictions\n",
    "rmse_combined = math.sqrt(mse_combined)\n",
    "\n",
    "# Print MSE and RMSE for combined predictions\n",
    "print(\"Mean Squared Error for Combined Predictions:\", mse_combined)\n",
    "print(\"Root Mean Squared Error for Combined Predictions:\", rmse_combined)"
   ]
  },
  {
   "cell_type": "code",
   "execution_count": null,
   "id": "0cbaeb08",
   "metadata": {},
   "outputs": [],
   "source": []
  },
  {
   "cell_type": "code",
   "execution_count": null,
   "id": "69615689",
   "metadata": {},
   "outputs": [],
   "source": []
  },
  {
   "cell_type": "code",
   "execution_count": null,
   "id": "e05a07f8",
   "metadata": {},
   "outputs": [],
   "source": []
  },
  {
   "cell_type": "code",
   "execution_count": null,
   "id": "9fdd20d2",
   "metadata": {},
   "outputs": [],
   "source": []
  },
  {
   "cell_type": "code",
   "execution_count": null,
   "id": "78402075",
   "metadata": {},
   "outputs": [],
   "source": []
  },
  {
   "cell_type": "code",
   "execution_count": null,
   "id": "caddca5c",
   "metadata": {},
   "outputs": [],
   "source": []
  },
  {
   "cell_type": "code",
   "execution_count": null,
   "id": "e32ef182",
   "metadata": {},
   "outputs": [],
   "source": []
  },
  {
   "cell_type": "code",
   "execution_count": null,
   "id": "3adbe21c",
   "metadata": {},
   "outputs": [],
   "source": []
  },
  {
   "cell_type": "code",
   "execution_count": null,
   "id": "6be96d70",
   "metadata": {},
   "outputs": [],
   "source": []
  },
  {
   "cell_type": "code",
   "execution_count": null,
   "id": "59729915",
   "metadata": {},
   "outputs": [],
   "source": []
  },
  {
   "cell_type": "code",
   "execution_count": null,
   "id": "900d39db",
   "metadata": {},
   "outputs": [],
   "source": []
  },
  {
   "cell_type": "code",
   "execution_count": null,
   "id": "c07f1a38",
   "metadata": {},
   "outputs": [],
   "source": []
  },
  {
   "cell_type": "code",
   "execution_count": null,
   "id": "ef71285f",
   "metadata": {},
   "outputs": [],
   "source": []
  },
  {
   "cell_type": "code",
   "execution_count": null,
   "id": "6a63994b",
   "metadata": {},
   "outputs": [],
   "source": []
  },
  {
   "cell_type": "code",
   "execution_count": null,
   "id": "e5817912",
   "metadata": {},
   "outputs": [],
   "source": []
  },
  {
   "cell_type": "code",
   "execution_count": null,
   "id": "beec8ac3",
   "metadata": {},
   "outputs": [],
   "source": []
  }
 ],
 "metadata": {
  "kernelspec": {
   "display_name": "Python 3 (ipykernel)",
   "language": "python",
   "name": "python3"
  },
  "language_info": {
   "codemirror_mode": {
    "name": "ipython",
    "version": 3
   },
   "file_extension": ".py",
   "mimetype": "text/x-python",
   "name": "python",
   "nbconvert_exporter": "python",
   "pygments_lexer": "ipython3",
   "version": "3.11.5"
  }
 },
 "nbformat": 4,
 "nbformat_minor": 5
}
